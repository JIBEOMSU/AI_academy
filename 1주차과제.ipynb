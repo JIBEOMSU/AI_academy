{
  "nbformat": 4,
  "nbformat_minor": 0,
  "metadata": {
    "colab": {
      "name": "1주차과제.ipynb",
      "provenance": [],
      "collapsed_sections": [],
      "toc_visible": true,
      "authorship_tag": "ABX9TyPPK77CmwDFTWSsfegliyCk",
      "include_colab_link": true
    },
    "kernelspec": {
      "name": "python3",
      "display_name": "Python 3"
    }
  },
  "cells": [
    {
      "cell_type": "markdown",
      "metadata": {
        "id": "view-in-github",
        "colab_type": "text"
      },
      "source": [
        "<a href=\"https://colab.research.google.com/github/JIBEOMSU/AI_academy/blob/master/1%EC%A3%BC%EC%B0%A8%EA%B3%BC%EC%A0%9C.ipynb\" target=\"_parent\"><img src=\"https://colab.research.google.com/assets/colab-badge.svg\" alt=\"Open In Colab\"/></a>"
      ]
    },
    {
      "cell_type": "markdown",
      "metadata": {
        "id": "A5TqYrcjIiod",
        "colab_type": "text"
      },
      "source": [
        "# 언어"
      ]
    },
    {
      "cell_type": "markdown",
      "metadata": {
        "id": "--lt47bKKTJU",
        "colab_type": "text"
      },
      "source": [
        "카카오에서 딥러닝을 활용한 뉴스메타태깅시스템을 발표했다.\n",
        "\n",
        "* 필요성\n",
        "    * 기사의 속성을 설명하는 데이터인 메타데이터는 언론사에서 제공하지 않음\n",
        "    * 사용자의 필요를 세밀하게 충족시키고 플랫폼에서 활용하기 위해서는 뉴스의 메타데이터를 쉽게 파악할 필요가 있다\n",
        "    * 카카오는 플랫폼을 통해 메타데이터를 소비할 수 있는 흐름을 만들어 시스템화하고, 이를 '뉴스 메타 태깅 시스템'이라 이름 지었다\n",
        "\n",
        "* 모델\n",
        "    * 뉴스 기사 콘텐츠를 \"있는 그대로\" 분석에 활용하기 위해 Character_based_CNN 모델 사용\n",
        "    * 기사 제목이나 본문의 특징적 기호 활용\n",
        "    * alphabet space 안에서 처리\n",
        "    * 문자와 단어의 순서 보존하여 기사의 문투 학습\n",
        "\n",
        "딥러닝을 통해 메타데이터를 자동으로 빠르게 생성하여 사용자의 맞춤 뉴스를 제공한다면 뉴스의 접근성이 높아질것으로 예상된다."
      ]
    },
    {
      "cell_type": "markdown",
      "metadata": {
        "id": "TghlvgPzJDWG",
        "colab_type": "text"
      },
      "source": [
        "#음성"
      ]
    },
    {
      "cell_type": "markdown",
      "metadata": {
        "id": "RRnOuJCNJNGG",
        "colab_type": "text"
      },
      "source": [
        "아마존의 딥러닝 기술 대중화 선언 '아마존 렉스'\n",
        "\n",
        "* 개요\n",
        "  * 음성을 텍스트로 변환하는 자동 음성 인식(ASR), 텍스트의 의도를 이해하는 자연어 처리(NLU)라는 첨단 딥러닝 기능을 제공하는 Amazon Lex\n",
        "\n",
        "  * 아마존은 Amazon Lex를 대중화 함으로써 대화형 인터페이스를 통해 전혀 새로운 카테고리의 제품과 서비스를 만들애내길 기대하고있다.\n",
        "\n",
        "  * Amazon Lex는 완전관리형 서비스이기 때문에 인공지능의 버전 업그레이드 관리나 사용자 참여가 늘어나더라도 봇 환경을 개선하기 위한 인프라 관리에 대해 걱정할 필요가 없다.\n",
        "\n",
        "* 활용방안\n",
        "  * **애플리케이션 봇** : 은행 계좌 액세스, 티켓 예매, 음식 주문, 택시 부르기 등 고객이 다양한 기본 활동을 영위하도록 지원할 수 있다. Amazon Cognito와 통합되어 사용자 관리, 인증 및 모든 디바이스 동기화를 제어할 수 있다.\n",
        "  * **콜센터 봇** : 발신자가 상담원에게 이야기하지 않고도 암호 변경, 계정의 잔액 요청 또는 일정 예약과 같은 작업 수행 가능\n",
        "  * **사물 인터넷** : 자동차 및 디바이스에서 웨어러블 및 가전기기에 이르기까지 다양한 시장에서 완전히 새로운 대화식 제품 카테고리를 위한 기회가 생겨남\n",
        "  * **정보 봇** : 사용 예약, 최신 뉴스 업데이트, 경기 점수, 날씨 등 일상적인 고객 요청을 위한 챗봇을 개발할 수 있다.\n",
        "  * **엔터프라이즈 생산성 봇** : 직원들이 고객 서비스 상황을 챗봇을 통해 직접 몇 분 만에 확인할 수 있다."
      ]
    },
    {
      "cell_type": "markdown",
      "metadata": {
        "id": "mOlwxVu9JPZj",
        "colab_type": "text"
      },
      "source": [
        "# 이미지"
      ]
    },
    {
      "cell_type": "markdown",
      "metadata": {
        "id": "uDAwX27jJUpY",
        "colab_type": "text"
      },
      "source": [
        "와세다 대학의 연구 그룹에서 깃허브에 흑백사진을 컬러로 자동으로 채색하는 프로그램 소스 코드를 공개했다\n",
        "\n",
        "* 대량의 동일한 흑백, 컬러 사진을 분석해 채색에 필요한 특징을 분석하고 학습하여 채색 기능을 익히게 된다\n",
        "\n",
        "* 원리![대체 텍스트](http://iizuka.cs.tsukuba.ac.jp/projects/colorization/images/model.png)\n",
        " 이 모델은 하위 수준 기능 네트워크, 중간 수준 기능 네트워크, 전역 기능 네트워크 및 채색 네트워크의 네 가지 주요 구성 요소로 구성된다. 구성 요소는 모두 엔드-투-엔드 방식으로 밀접하게 결합되고 학습된다.\n"
      ]
    },
    {
      "cell_type": "markdown",
      "metadata": {
        "id": "G0fIhxWHJVHL",
        "colab_type": "text"
      },
      "source": [
        "# 자율주행"
      ]
    },
    {
      "cell_type": "markdown",
      "metadata": {
        "id": "PWcPIvdzf0bz",
        "colab_type": "text"
      },
      "source": [
        "# NVIDIA의 자율주행 자동차\n",
        "\n",
        "* 컴퓨팅 하드웨어 제조사인 NVIDIA는 자사의 GPU 제조 역량을 활용해 자율주행 자동차 시장에 진출\n",
        "* GPU는 딥러닝 기반의 인공지능 구현 시 컴퓨팅 속도 및 성능 향상을 위해 필수적으로 활용되어야 하는 핵심 부품\n",
        "\n",
        "* NVIDIA의 **'DrivePX'** 자율 주행 자동차 개발 플랫폼\n",
        "  * HW부터 SW전반을 포괄하는 이 플랫폼에는 자율주행 기능 구현을 위한 기능들이 기본으로 제공되어 개발자들이 쉽게 기능을 구현할 수 있음\n",
        "  * 예를 들어 개발자가 전방 차량 감지, 차선 유지 등의 기능 구현 시 단순히 DrivePX가 제공하는 기능을 활용하기만 하면 됨\n",
        "  * 개발 시간을 크게 단축하고 높은 성능으로 기능 구현 가능\n"
      ]
    }
  ]
}